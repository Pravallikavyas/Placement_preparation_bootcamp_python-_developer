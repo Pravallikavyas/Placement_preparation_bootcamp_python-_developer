{
  "nbformat": 4,
  "nbformat_minor": 0,
  "metadata": {
    "colab": {
      "provenance": [],
      "include_colab_link": true
    },
    "kernelspec": {
      "name": "python3",
      "display_name": "Python 3"
    },
    "language_info": {
      "name": "python"
    }
  },
  "cells": [
    {
      "cell_type": "markdown",
      "metadata": {
        "id": "view-in-github",
        "colab_type": "text"
      },
      "source": [
        "<a href=\"https://colab.research.google.com/github/Pravallikavyas/Placement_preparation_bootcamp_python-_developer/blob/main/Copy_of_Algorithms.ipynb\" target=\"_parent\"><img src=\"https://colab.research.google.com/assets/colab-badge.svg\" alt=\"Open In Colab\"/></a>"
      ]
    },
    {
      "cell_type": "markdown",
      "source": [
        "# Algorithmic Thinking\n",
        "----------------------\n",
        "## Efficient\n",
        "\n",
        "> ### 1. Time\n",
        "> ### 2. Space\n",
        "\n",
        "# Time Complexity Analysis\n",
        "> ## a) We will determine the complexity in the order of magnitude (Big-oh)\n",
        "> ## b) We will calculate the complexity by determining the area where the maximum time is being used.\n",
        "> ## c) Simple statements will always take one unit of time such as assignment, declaration, arithmatic operations O(1)"
      ],
      "metadata": {
        "id": "0fYxpKL_magU"
      }
    },
    {
      "cell_type": "code",
      "execution_count": null,
      "metadata": {
        "id": "j3c1nPOLlPb-"
      },
      "outputs": [],
      "source": [
        "# Eg 1\n",
        "\n",
        "x = 10\n",
        "y = 20\n",
        "z = x + y\n",
        "print(z)\n",
        "\n",
        "# Time Complexity = O(4)"
      ]
    },
    {
      "cell_type": "code",
      "source": [
        "# Eg 2\n",
        "a = 10\n",
        "b = 20\n",
        "a = b - a\n",
        "b = b - a\n",
        "a = a + b\n",
        "print(a, b)\n",
        "\n",
        "# Time complexity = O(6)"
      ],
      "metadata": {
        "id": "Jguwya3irJr8"
      },
      "execution_count": null,
      "outputs": []
    },
    {
      "cell_type": "code",
      "source": [
        "# Eg 3\n",
        "\n",
        "n = int(input(\"Enter the first number: \"))\n",
        "m = int(input(\"Enter the second number: \"))\n",
        "\n",
        "for i in range(n):\n",
        "  print(\"Hello\")\n",
        "\n",
        "for j in range(m):\n",
        "  print(\"Hi\")"
      ],
      "metadata": {
        "id": "BAkjCyqCshTk"
      },
      "execution_count": null,
      "outputs": []
    },
    {
      "cell_type": "code",
      "source": [
        "#Eg 4\n",
        "\n",
        "n = int(input(\"Enter the number: \"))\n",
        "\n",
        "count = 0\n",
        "for i in range(n):\n",
        "  for j in range(n):\n",
        "\n",
        "    print(\"How are you?\")\n",
        "    count += 1\n",
        "\n",
        "print(count)\n",
        "\n",
        "# Time Complexity = (n^2)"
      ],
      "metadata": {
        "id": "dpBxIkQBwaF5"
      },
      "execution_count": null,
      "outputs": []
    },
    {
      "cell_type": "code",
      "source": [
        "# Eg 5\n",
        "\n",
        "n = int(input(\"Enter the number: \"))\n",
        "\n",
        "i = 1\n",
        "while i < n:\n",
        "  print(\"i = \", i)\n",
        "  j = n\n",
        "  while j > 1:\n",
        "    print(\"   j = \", j)\n",
        "    a = 1\n",
        "    b = 5\n",
        "    z = a + b\n",
        "    j = j/2\n",
        "  i = 2*i\n",
        "\n",
        "# Time Complexity = O(log n)^2"
      ],
      "metadata": {
        "id": "RW2jNMxGzCsL"
      },
      "execution_count": null,
      "outputs": []
    },
    {
      "cell_type": "code",
      "source": [
        "# Write a function that takes an integer as input and returns the sum of its digit\n",
        "\n",
        "def digit_sum(n):\n",
        "  total = 0\n",
        "  while n > 0:\n",
        "    total += n % 10\n",
        "    n = n//10\n",
        "  return total\n",
        "\n",
        "k = 12345\n",
        "print(digit_sum(k))\n",
        "\n"
      ],
      "metadata": {
        "colab": {
          "base_uri": "https://localhost:8080/"
        },
        "id": "voqEoK__6YKI",
        "outputId": "752acb5a-96d1-43da-dae6-8dc0bc40f96a"
      },
      "execution_count": null,
      "outputs": [
        {
          "output_type": "stream",
          "name": "stdout",
          "text": [
            "15\n"
          ]
        }
      ]
    },
    {
      "cell_type": "code",
      "source": [
        "# Given a list of N-1 distinct numbers in the range on (1 to N)\n",
        "# Find the missing element\n",
        "\n",
        "# Example\n",
        "# INPUT\n",
        "# 1 2 5 3\n",
        "\n",
        "\n",
        "# OUTPUT\n",
        "# 4"
      ],
      "metadata": {
        "id": "lJ0lszYh9vAz"
      },
      "execution_count": null,
      "outputs": []
    }
  ]
}