{
  "nbformat": 4,
  "nbformat_minor": 0,
  "metadata": {
    "colab": {
      "provenance": [],
      "include_colab_link": true
    },
    "kernelspec": {
      "name": "python3",
      "display_name": "Python 3"
    },
    "language_info": {
      "name": "python"
    }
  },
  "cells": [
    {
      "cell_type": "markdown",
      "metadata": {
        "id": "view-in-github",
        "colab_type": "text"
      },
      "source": [
        "<a href=\"https://colab.research.google.com/github/Pravallikavyas/Placement_preparation_bootcamp_python-_developer/blob/main/Copy_of_Placement_Preparation_Bootcamp.ipynb\" target=\"_parent\"><img src=\"https://colab.research.google.com/assets/colab-badge.svg\" alt=\"Open In Colab\"/></a>"
      ]
    },
    {
      "cell_type": "code",
      "execution_count": null,
      "metadata": {
        "id": "omoFioURpeB8"
      },
      "outputs": [],
      "source": [
        "i = int(input())# 1,2,....100,...n\n",
        "j = int(input())#1,2,......100,...m\n",
        "#five?\n",
        "for index in range(i):#(0,1,2....n-1)# total_number = n\n",
        "  for val in range(j):#(0,1,2,....,m-1)# total_ m\n",
        "    print(index*val)"
      ]
    },
    {
      "cell_type": "markdown",
      "source": [
        "# Given a sorted list of number\n",
        "eg = [1,4,6,7,9]\n",
        "# your task is to identify the index of any number\n",
        "# without using the index function\n",
        "\n",
        "find index of 4 =1\n",
        "find index of 10 = not exist\n",
        "\n",
        "# Soultion\n",
        "\n",
        "# binary search -->\n",
        "\n"
      ],
      "metadata": {
        "id": "gMd5D5TAwM44"
      }
    },
    {
      "cell_type": "code",
      "source": [
        "input_data = [1,6,7,8,9,10,23,56]\n",
        "search_number = 23\n",
        "low = 0\n",
        "high = len(input_data)-1\n",
        "while True:\n",
        "  mid = (low+high) // 2 # floor division\n",
        "  mid_val = input_data[mid]\n",
        "  if mid > high:\n",
        "    print(\"Number not present\")\n",
        "  else:\n",
        "    if mid_val > search_number:\n",
        "      high = mid-1\n",
        "    elif mid_val <search_number:\n",
        "      low = mid+1\n",
        "    else:\n",
        "      print(mid)\n",
        "      break\n",
        "# complexity of this algorithm is O(log n)\n",
        "\n",
        "\n"
      ],
      "metadata": {
        "colab": {
          "base_uri": "https://localhost:8080/"
        },
        "id": "af2IHMAMv-wM",
        "outputId": "f09dc467-ef09-4e34-98a8-cf1693c5d6fd"
      },
      "execution_count": null,
      "outputs": [
        {
          "output_type": "stream",
          "name": "stdout",
          "text": [
            "6\n"
          ]
        }
      ]
    },
    {
      "cell_type": "markdown",
      "source": [
        "# You are given with a list in which numbers are given in the consecutive manner. However, user said one number might be missing. can you verify if the list have any missing number or not."
      ],
      "metadata": {
        "id": "ULl2KfhA3xsW"
      }
    },
    {
      "cell_type": "code",
      "source": [],
      "metadata": {
        "id": "SKW0EHO6yRzT"
      },
      "execution_count": null,
      "outputs": []
    },
    {
      "cell_type": "markdown",
      "source": [
        "# We are making n stone piles! the first pile has n stones. If n is even, then all piles have an even number of stones. If n is odd, all piles have an odd number of stones. Each pile must have more than the previous pile but as few as possible,. Write a python prog to find the number of stones in each pile."
      ],
      "metadata": {
        "id": "27W_1o075D5c"
      }
    },
    {
      "cell_type": "code",
      "source": [
        "n = int(input())#####O(1)\n",
        "\n",
        "pile_list= []####O(1)\n",
        "if n%2 == 0:# even#O(1)\n",
        "  for index in range(0,n*2,2):#O(n)\n",
        "    pile_list.append(index+n)# O(n)\n",
        "else:# odd #O(1)\n",
        "  for index in range(0,2*n,2):#O(n)\n",
        "    pile_list.append(index+n)#O(n)\n",
        "pile_list#O(1)"
      ],
      "metadata": {
        "colab": {
          "base_uri": "https://localhost:8080/"
        },
        "id": "t_FsnngD5X4t",
        "outputId": "efa448f0-a85b-4669-b4fa-b4e7e227a0a8"
      },
      "execution_count": null,
      "outputs": [
        {
          "name": "stdout",
          "output_type": "stream",
          "text": [
            "5\n"
          ]
        },
        {
          "output_type": "execute_result",
          "data": {
            "text/plain": [
              "[5, 7, 9, 11, 13]"
            ]
          },
          "metadata": {},
          "execution_count": 26
        }
      ]
    },
    {
      "cell_type": "code",
      "source": [
        "O(1)+O(1)+O(1)+O(n)+O(n)+O(1)+O(n)+O(n)+O(1)\n",
        "5*O(1)+4*O(n)\n",
        "O(1)+O(n)\n",
        "O(n)-->"
      ],
      "metadata": {
        "id": "wLcx-EiY8Gqq"
      },
      "execution_count": null,
      "outputs": []
    },
    {
      "cell_type": "markdown",
      "source": [
        "# OOPS\n",
        "\n",
        "# Object oriented programming\n",
        "\n",
        "Students--> roll, course,name, fee, attendance, quiz marks# class\n",
        "\n",
        "#Class -- > template\n",
        "student1 --> { #Object\n",
        "  roll,\n",
        "  course,\n",
        "  name,\n",
        "  fee,\n",
        "  attendance,\n",
        "  quiz marks\n",
        "}"
      ],
      "metadata": {
        "id": "ZVB18ULTBIXL"
      }
    },
    {
      "cell_type": "code",
      "source": [
        "class student:\n",
        "  def __init__(self,user_name,yob):\n",
        "    self.name = user_name\n",
        "    self.yob = yob\n",
        "  def get_age(self):\n",
        "    age = 2023-self.yob\n",
        "    return age\n",
        "\n",
        "student1 = student(\"poonam\",1999)\n",
        "student2 = student(\"Krishna\",1998)"
      ],
      "metadata": {
        "id": "GS_dT_kqAG5k"
      },
      "execution_count": null,
      "outputs": []
    },
    {
      "cell_type": "code",
      "source": [
        "student2.get_age()"
      ],
      "metadata": {
        "colab": {
          "base_uri": "https://localhost:8080/"
        },
        "id": "Dj-YskBwDJNl",
        "outputId": "4b7b31ab-134f-42ab-daf5-bd79a09b4ad5"
      },
      "execution_count": null,
      "outputs": [
        {
          "output_type": "execute_result",
          "data": {
            "text/plain": [
              "25"
            ]
          },
          "metadata": {},
          "execution_count": 57
        }
      ]
    },
    {
      "cell_type": "markdown",
      "source": [
        "# Create a class guvi and help us enroll companies with us\n",
        "# name\n",
        "# domain\n",
        "# salary\n",
        "# how_old\n",
        "# location\n",
        "# is_remote"
      ],
      "metadata": {
        "id": "lMKPomDNGYzw"
      }
    },
    {
      "cell_type": "code",
      "source": [
        "class guvi:\n",
        "  def __init__(self,name,domain,salary,how_old,location,is_remote):\n",
        "    self.name = name\n",
        "    self.domain = domain\n",
        "    self.salary = salary\n",
        "    self.how_old = how_old\n",
        "    self.location = location\n",
        "    self.is_remote = is_remote\n",
        "  def printdetails(self):\n",
        "    print(self.name,self.domain,self.salary,self.how_old,self.location,self.is_remote)\n",
        "company1=guvi(\"google\",\"developer\",100000,30,\"chennai\",True)\n",
        "company1.printdetails()\n",
        "company2=guvi(\"Mr.Cooper\",\"Data Analyst\",100000,26,\"chennai\",True)\n",
        "company2.printdetails()\n",
        "company3=guvi(\"Marlensoft\",\"Product Engineer Trainee\",100000,26,\"chennai\",True)\n",
        "company3.printdetails()"
      ],
      "metadata": {
        "id": "uU9GA0kxyiPR",
        "outputId": "107ac5ba-e25a-4e11-fcb3-19d08f98ce42",
        "colab": {
          "base_uri": "https://localhost:8080/"
        }
      },
      "execution_count": 4,
      "outputs": [
        {
          "output_type": "stream",
          "name": "stdout",
          "text": [
            "google developer 100000 30 chennai True\n",
            "Mr.Cooper Data Analyst 100000 26 chennai True\n",
            "Marlensoft Product Engineer Trainee 100000 26 chennai True\n"
          ]
        }
      ]
    },
    {
      "cell_type": "markdown",
      "source": [
        "# You have to create a class rectangle. having constructor which take two arguments width, length. Create two methods which is call to be the area, perimeter used to find area of rectangle and perimeter of rectangle."
      ],
      "metadata": {
        "id": "Ziqe_8B64Z18"
      }
    },
    {
      "cell_type": "code",
      "source": [
        "class quad:\n",
        "\n",
        "  def __init__(self,width,length):\n",
        "    self.width = width\n",
        "    self.length = length\n",
        "  def area(self):\n",
        "    self.area = self.width*self.length\n",
        "\n",
        "  def perimeter(self):\n",
        "    self.perimeter = 2*(self.width+self.length)\n",
        "  def type_of_object(self):\n",
        "    if self.width == self.length:\n",
        "      self.type_of_obj = 'square'\n",
        "    else:\n",
        "      self.type_of_obj = 'rectangle'\n",
        "\n",
        "rect1 = quad(12,12)\n",
        "rect1.area()\n",
        "rect1.perimeter()\n",
        "rect1.type_of_object()\n",
        "print(rect1.__dict__)\n",
        "rect2 = quad(20,15)\n",
        "rect2.area()\n",
        "rect2.perimeter()\n",
        "rect2.type_of_object()\n",
        "print(rect2.__dict__)\n"
      ],
      "metadata": {
        "id": "k1AP12G4DVHG",
        "colab": {
          "base_uri": "https://localhost:8080/"
        },
        "outputId": "fb610a7b-4387-4d81-e6db-fa41ce80248c"
      },
      "execution_count": null,
      "outputs": [
        {
          "output_type": "stream",
          "name": "stdout",
          "text": [
            "{'width': 12, 'length': 12, 'area': 144, 'perimeter': 48, 'type_of_obj': 'square'}\n",
            "{'width': 20, 'length': 15, 'area': 300, 'perimeter': 70, 'type_of_obj': 'rectangle'}\n"
          ]
        }
      ]
    },
    {
      "cell_type": "markdown",
      "source": [
        "## You are IT head of a bank SBC, create a customer that takes acc nunber, name, balance =0.0\n",
        "\n",
        "### create two functions\n",
        "##### Deposit take amount as argument and add the given amount in the balance and update it\n",
        "##### Withdraw take amount as argumnet and sub the given amount from the balance and update it."
      ],
      "metadata": {
        "id": "LSsr-xZa-ROD"
      }
    },
    {
      "cell_type": "markdown",
      "source": [
        "#"
      ],
      "metadata": {
        "id": "mOnXhZVC9HPt"
      }
    },
    {
      "cell_type": "code",
      "source": [
        "class SBC:\n",
        "  bank_name = \"SBC\"\n",
        "  def __init__(self,account_number,name):\n",
        "    self.acc_num = account_number\n",
        "    self.name = name\n",
        "    self.balance = 0.0\n",
        "\n",
        "  def deposit(self,amt):\n",
        "    self.balance = self.balance+amt\n",
        "\n",
        "  def withdraw(self,amt):\n",
        "    if amt>self.balance:\n",
        "      print(\"Insufficient balance\")\n",
        "    else:\n",
        "      self.balance = self.balance-amt\n",
        "cust1 = SBC(1234,'ajay')\n",
        "cust1.deposit(100)\n",
        "cust1.deposit(300)\n",
        "cust1.deposit(400)\n",
        "cust1.withdraw(500)\n",
        "\n",
        "cust2 = SBC(123124,'krishna')\n",
        "cust2.deposit(1000)\n",
        "cust2.deposit(3000)\n",
        "cust2.deposit(400)\n",
        "cust2.withdraw(5000)\n",
        "\n",
        "print(cust1.__dict__,cust1.bank_name)\n",
        "print(cust2.__dict__,cust2.bank_name)"
      ],
      "metadata": {
        "colab": {
          "base_uri": "https://localhost:8080/"
        },
        "id": "-OdUXKHX1E1U",
        "outputId": "d9e8443b-eb10-4961-e8e1-be5b8edef3ca"
      },
      "execution_count": null,
      "outputs": [
        {
          "output_type": "stream",
          "name": "stdout",
          "text": [
            "Insufficient balance\n",
            "{'acc_num': 1234, 'name': 'ajay', 'balance': 300.0} SBC\n",
            "{'acc_num': 123124, 'name': 'krishna', 'balance': 4400.0} SBC\n"
          ]
        }
      ]
    },
    {
      "cell_type": "markdown",
      "source": [
        "## You are required to create a class 'Student' with following info.\n",
        "\n",
        "##### __init__ (self,name,rollnumber)\n",
        "##### add_grade(self,subject,number_of_credicts,grade)\n",
        "##### get_average_grade(self) returns average grade scored by candidate\n",
        "\n",
        "4*8+3*6/(4+3)"
      ],
      "metadata": {
        "id": "aKYdEZWkDP8L"
      }
    },
    {
      "cell_type": "code",
      "source": [
        "class Student:\n",
        "  institute = 'GUVI'\n",
        "  def __init__(self,name,roll):\n",
        "    self.name = name\n",
        "    self.roll= roll\n",
        "    self.course = {'Maths':0,'CS':0,'English':0}\n",
        "\n",
        "  def add_grade(self,course_name,grade):\n",
        "    self.course[course_name] = grade\n",
        "\n",
        "  def get_average(self):\n",
        "    print(Student.institute)\n",
        "    if not self.course:\n",
        "      self.average = 0.0\n",
        "    else:\n",
        "      self.average = sum(self.course.values())/len(self.course)\n",
        "      return self.average\n",
        "\n",
        "stud1 = Student('adhya',1)\n",
        "stud1.__dict__\n",
        "stud1.add_grade('Maths',8)\n",
        "stud1.add_grade('CS',6)\n",
        "stud1.add_grade('English',9)\n",
        "stud1.__dict__\n",
        "stud1.get_average()\n",
        "stud1.__dict__\n",
        "\n",
        "\n"
      ],
      "metadata": {
        "colab": {
          "base_uri": "https://localhost:8080/"
        },
        "id": "VqGA6mUkBfWc",
        "outputId": "24bce4ed-f26e-482c-9f5b-3f2083cb1f71"
      },
      "execution_count": null,
      "outputs": [
        {
          "output_type": "stream",
          "name": "stdout",
          "text": [
            "ZEN Classes\n"
          ]
        },
        {
          "output_type": "execute_result",
          "data": {
            "text/plain": [
              "{'name': 'adhya',\n",
              " 'roll': 1,\n",
              " 'course': {'Maths': 8, 'CS': 6, 'English': 9},\n",
              " 'average': 7.666666666666667}"
            ]
          },
          "metadata": {},
          "execution_count": 27
        }
      ]
    },
    {
      "cell_type": "markdown",
      "source": [
        "## anagrams-->\n",
        "\n",
        "# x,y\n",
        "# if string x and string y contain the same characters with the same frequency or not\n",
        "# silent and listen\n",
        "# s = 1,1\n",
        "# i = 1,1\n",
        "# l = 1,1\n",
        "# e = 1,1\n",
        "# n = 1,1\n",
        "# t = 1,1"
      ],
      "metadata": {
        "id": "2LrLVYXBLM7u"
      }
    },
    {
      "cell_type": "code",
      "source": [
        "def are_anagrams(x,y):\n",
        "  x = x.lower().strip()\n",
        "  y = y.lower().strip()\n",
        "  x = sorted(x)\n",
        "  y = sorted(y)\n",
        "  if x == y:\n",
        "    print(\"The given strings were anagrams\")\n",
        "  else:\n",
        "    print(\"The given strings were not anagrams\")\n",
        "are_anagrams('silent','listens')\n"
      ],
      "metadata": {
        "colab": {
          "base_uri": "https://localhost:8080/"
        },
        "id": "YsfYjbxnLBVO",
        "outputId": "50689e18-8945-45dd-f147-7a01f79c85b2"
      },
      "execution_count": null,
      "outputs": [
        {
          "output_type": "stream",
          "name": "stdout",
          "text": [
            "The given strings were not anagrams\n"
          ]
        }
      ]
    },
    {
      "cell_type": "markdown",
      "source": [
        "## Find the second largest number from the list?\n",
        "# [10,10,10] --> no second\n",
        "# []--> no second\n",
        "# [10,10,9,9,9,9]--> 9"
      ],
      "metadata": {
        "id": "QdrDznysQ6Mt"
      }
    },
    {
      "cell_type": "code",
      "source": [
        "def find_second_largest(numbers):\n",
        "  if len(numbers)<2:\n",
        "    return None\n",
        "  sorted_numbers = sorted(set(numbers),reverse = True)\n",
        "  if len(sorted_numbers)<2:\n",
        "    return None\n",
        "  else:\n",
        "    return sorted_numbers[1]\n",
        "find_second_largest([])"
      ],
      "metadata": {
        "id": "1Ng3OmxjOevD"
      },
      "execution_count": null,
      "outputs": []
    },
    {
      "cell_type": "code",
      "source": [],
      "metadata": {
        "id": "ujTMIXApStUZ"
      },
      "execution_count": null,
      "outputs": []
    }
  ]
}